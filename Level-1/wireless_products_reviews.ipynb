{
  "nbformat": 4,
  "nbformat_minor": 0,
  "metadata": {
    "colab": {
      "name": "wireless_products_reviews.ipynb",
      "provenance": []
    },
    "kernelspec": {
      "name": "python3",
      "display_name": "Python 3"
    },
    "language_info": {
      "name": "python"
    }
  },
  "cells": [
    {
      "cell_type": "code",
      "execution_count": 1,
      "metadata": {
        "colab": {
          "base_uri": "https://localhost:8080/"
        },
        "id": "HEckmwEUX2c9",
        "outputId": "028c6108-4080-4a49-ca07-ff7d4c46bf42"
      },
      "outputs": [
        {
          "output_type": "stream",
          "name": "stdout",
          "text": [
            "\r0% [Working]\r            \rHit:1 http://archive.ubuntu.com/ubuntu bionic InRelease\n",
            "\r0% [Connecting to security.ubuntu.com (185.125.190.39)] [Waiting for headers] [\r                                                                               \rHit:2 http://archive.ubuntu.com/ubuntu bionic-updates InRelease\n",
            "\r                                                                               \rHit:3 https://cloud.r-project.org/bin/linux/ubuntu bionic-cran40/ InRelease\n",
            "\r0% [Waiting for headers] [Connecting to security.ubuntu.com (185.125.190.39)] [\r0% [1 InRelease gpgv 242 kB] [Waiting for headers] [Connecting to security.ubun\r                                                                               \rHit:4 http://archive.ubuntu.com/ubuntu bionic-backports InRelease\n",
            "\r0% [1 InRelease gpgv 242 kB] [Connecting to security.ubuntu.com (185.125.190.39\r                                                                               \rHit:5 http://ppa.launchpad.net/c2d4u.team/c2d4u4.0+/ubuntu bionic InRelease\n",
            "Get:6 http://security.ubuntu.com/ubuntu bionic-security InRelease [88.7 kB]\n",
            "Ign:7 https://developer.download.nvidia.com/compute/machine-learning/repos/ubuntu1804/x86_64  InRelease\n",
            "Hit:8 https://developer.download.nvidia.com/compute/cuda/repos/ubuntu1804/x86_64  InRelease\n",
            "Hit:9 https://developer.download.nvidia.com/compute/machine-learning/repos/ubuntu1804/x86_64  Release\n",
            "Hit:10 http://ppa.launchpad.net/cran/libgit2/ubuntu bionic InRelease\n",
            "Hit:11 http://ppa.launchpad.net/deadsnakes/ppa/ubuntu bionic InRelease\n",
            "Hit:12 http://ppa.launchpad.net/graphics-drivers/ppa/ubuntu bionic InRelease\n",
            "Fetched 88.7 kB in 3s (28.8 kB/s)\n",
            "Reading package lists... Done\n"
          ]
        }
      ],
      "source": [
        "import os\n",
        "# Find the latest version of spark 3.0  from http://www.apache.org/dist/spark/ and enter as the spark version\n",
        "# For example:\n",
        "spark_version = 'spark-3.1.3'\n",
        "# spark_version = 'spark-3.<version number>'\n",
        "os.environ['SPARK_VERSION']=spark_version\n",
        "\n",
        "# Install Spark and Java\n",
        "!apt-get update\n",
        "!apt-get install openjdk-8-jdk-headless -qq > /dev/null\n",
        "!wget -q http://www.apache.org/dist/spark/$SPARK_VERSION/$SPARK_VERSION-bin-hadoop2.7.tgz\n",
        "!tar xf $SPARK_VERSION-bin-hadoop2.7.tgz\n",
        "!pip install -q findspark\n",
        "\n",
        "# Set Environment Variables\n",
        "os.environ[\"JAVA_HOME\"] = \"/usr/lib/jvm/java-8-openjdk-amd64\"\n",
        "os.environ[\"SPARK_HOME\"] = f\"/content/{spark_version}-bin-hadoop2.7\"\n",
        "\n",
        "# Start a SparkSession\n",
        "import findspark\n",
        "findspark.init()"
      ]
    },
    {
      "cell_type": "code",
      "source": [
        "# Connect to Postgres\n",
        "!wget https://jdbc.postgresql.org/download/postgresql-42.2.9.jar\n"
      ],
      "metadata": {
        "colab": {
          "base_uri": "https://localhost:8080/"
        },
        "id": "W0eARcxJYFGr",
        "outputId": "d0916004-8f32-4fb4-cceb-caa496727af9"
      },
      "execution_count": 2,
      "outputs": [
        {
          "output_type": "stream",
          "name": "stdout",
          "text": [
            "--2022-08-19 16:55:44--  https://jdbc.postgresql.org/download/postgresql-42.2.9.jar\n",
            "Resolving jdbc.postgresql.org (jdbc.postgresql.org)... 72.32.157.228, 2001:4800:3e1:1::228\n",
            "Connecting to jdbc.postgresql.org (jdbc.postgresql.org)|72.32.157.228|:443... connected.\n",
            "HTTP request sent, awaiting response... 200 OK\n",
            "Length: 914037 (893K) [application/java-archive]\n",
            "Saving to: ‘postgresql-42.2.9.jar’\n",
            "\n",
            "postgresql-42.2.9.j 100%[===================>] 892.61K  5.01MB/s    in 0.2s    \n",
            "\n",
            "2022-08-19 16:55:45 (5.01 MB/s) - ‘postgresql-42.2.9.jar’ saved [914037/914037]\n",
            "\n"
          ]
        }
      ]
    },
    {
      "cell_type": "code",
      "source": [
        "from pyspark.sql import SparkSession\n",
        "spark = SparkSession.builder.appName(\"DigitalETL\").config(\"spark.driver.extraClassPath\",\"/content/postgresql-42.2.9.jar\").getOrCreate()"
      ],
      "metadata": {
        "id": "5NldhyyIYK-g"
      },
      "execution_count": 3,
      "outputs": []
    },
    {
      "cell_type": "markdown",
      "source": [
        "## ***Extract the data***"
      ],
      "metadata": {
        "id": "nGIC8o2obY2j"
      }
    },
    {
      "cell_type": "code",
      "source": [
        "# Read in data from S3 Buckets\n",
        "from pyspark import SparkFiles\n",
        "url=\"https://my-data-class-burketi.s3.amazonaws.com/amazon_reviews_us_Wireless_v1_00.tsv\" \n",
        "spark.sparkContext.addFile(url)\n",
        "wireless_reviews_df = spark.read.csv(SparkFiles.get(\"amazon_reviews_us_Wireless_v1_00.tsv\"), sep='\\t', header=True, inferSchema=True, timestampFormat=\"yyyy/MM/dd\")\n",
        "\n",
        "wireless_reviews_df.show()"
      ],
      "metadata": {
        "colab": {
          "base_uri": "https://localhost:8080/"
        },
        "id": "PlZMkrYNYa8P",
        "outputId": "0fab6e68-27f7-4c2d-8b4b-0cedb5470581"
      },
      "execution_count": 4,
      "outputs": [
        {
          "output_type": "stream",
          "name": "stdout",
          "text": [
            "+-----------+-----------+--------------+----------+--------------+--------------------+----------------+-----------+-------------+-----------+----+-----------------+--------------------+--------------------+-----------+\n",
            "|marketplace|customer_id|     review_id|product_id|product_parent|       product_title|product_category|star_rating|helpful_votes|total_votes|vine|verified_purchase|     review_headline|         review_body|review_date|\n",
            "+-----------+-----------+--------------+----------+--------------+--------------------+----------------+-----------+-------------+-----------+----+-----------------+--------------------+--------------------+-----------+\n",
            "|         US|   16414143|R3W4P9UBGNGH1U|B00YL0EKWE|     852431543|LG G4 Case Hard T...|        Wireless|          2|            1|          3|   N|                Y|Looks good, funct...|2 issues  -  Once...| 2015-08-31|\n",
            "|         US|   50800750|R15V54KBMTQWAY|B00XK95RPQ|     516894650|Selfie Stick Fibl...|        Wireless|          4|            0|          0|   N|                N| A fun little gadget|I’m embarrassed t...| 2015-08-31|\n",
            "|         US|   15184378| RY8I449HNXSVF|B00SXRXUKO|     984297154|Tribe AB40 Water ...|        Wireless|          5|            0|          0|   N|                Y|          Five Stars|  Fits iPhone 6 well| 2015-08-31|\n",
            "|         US|   10203548|R18TLJYCKJFLSR|B009V5X1CE|     279912704|RAVPower® Element...|        Wireless|          5|            0|          0|   N|                Y|       Great charger|Great charger.  I...| 2015-08-31|\n",
            "|         US|     488280|R1NK26SWS53B8Q|B00D93OVF0|     662791300|Fosmon Micro USB ...|        Wireless|          5|            0|          0|   N|                Y|          Five Stars|Great for the pri...| 2015-08-31|\n",
            "|         US|   13334021|R11LOHEDYJALTN|B00XVGJMDQ|     421688488|iPhone 6 Case, Vo...|        Wireless|          5|            0|          0|   N|                Y|          Five Stars|Great Case, bette...| 2015-08-31|\n",
            "|         US|   27520697|R3ALQVQB2P9LA7|B00KQW1X1C|     554285554|Nokia Lumia 630 R...|        Wireless|          4|            0|          0|   N|                Y|          Four Stars|Easy to set up an...| 2015-08-31|\n",
            "|         US|   48086021|R3MWLXLNO21PDQ|B00IP1MQNK|     488006702|Lumsing 10400mah ...|        Wireless|          5|            0|          0|   N|                Y|          Five Stars|         Works great| 2015-08-31|\n",
            "|         US|   12738196|R2L15IS24CX0LI|B00HVORET8|     389677711|iPhone 5S Battery...|        Wireless|          5|            0|          0|   N|                Y|      So far so good|So far so good. I...| 2015-08-31|\n",
            "|         US|   15867807|R1DJ8976WPWVZU|B00HX3G6J6|     299654876|HTC One M8 Screen...|        Wireless|          3|            0|          0|   N|                Y|seems durable but...|seems durable but...| 2015-08-31|\n",
            "|         US|    1972249|R3MRWNNR8CBTB7|B00U4NATNQ|     577878727|S6 Case - Bear Mo...|        Wireless|          5|            0|          0|   N|                Y|Super thin, light...|Super thin, light...| 2015-08-31|\n",
            "|         US|   10956619|R1DS6DKTUXAQK3|B00SZEFDH8|     654620704|BLU Studio X, Unl...|        Wireless|          5|            0|          0|   N|                Y|          Five Stars|As good as the Sa...| 2015-08-31|\n",
            "|         US|   14805911| RWJM5E0TWUJD2|B00JRJUL9U|     391166958|EZOPower 5-Port U...|        Wireless|          5|            0|          0|   N|                Y|            EZOPower|I received this o...| 2015-08-31|\n",
            "|         US|   15611116|R1XTJKDYNCRGAC|B00KQ4T0HE|     481551630|iPhone 6S Case &i...|        Wireless|          1|            0|          0|   N|                Y|Very cheap case. ...|Very cheap case. ...| 2015-08-31|\n",
            "|         US|   39298603|R2UZL3DPWEU1XW|B00M0YWKPM|     685107474| iPhone 6s Plus Case|        Wireless|          5|            0|          0|   N|                Y|          Five Stars|       son loves it.| 2015-08-31|\n",
            "|         US|   17552454|R2EZXET9KBFFU3|B00KDZEE68|     148320945|zBoost ZB575-A TR...|        Wireless|          1|            0|          0|   N|                Y|            One Star|you have to turn ...| 2015-08-31|\n",
            "|         US|   12218556|R26VY1L1FD3LPU|B00BJN45GM|      47788188|OtterBox Defender...|        Wireless|          5|            0|          0|   N|                Y|          Five Stars|  Awesome, thank you| 2015-08-31|\n",
            "|         US|   21872923|R2SSA4NSFCV18T|B00SA86SXW|     748759272|Aduro PowerUP 30W...|        Wireless|          5|            0|          0|   N|                N|          Five Stars|         nice, smart| 2015-08-31|\n",
            "|         US|   16264332|R1G6333JHJNEUQ|B00Q3I68TU|     974085141|LilGadgets Connec...|        Wireless|          5|            0|          0|   N|                Y|Great headphones ...|We love these hea...| 2015-08-31|\n",
            "|         US|    6042304|R2DRG0UZXJQ0PE|B00TN4J1TA|     716174627|Anker Aluminum Mu...|        Wireless|          5|            0|          0|   N|                Y|          Five Stars|This is well wort...| 2015-08-31|\n",
            "+-----------+-----------+--------------+----------+--------------+--------------------+----------------+-----------+-------------+-----------+----+-----------------+--------------------+--------------------+-----------+\n",
            "only showing top 20 rows\n",
            "\n"
          ]
        }
      ]
    },
    {
      "cell_type": "markdown",
      "source": [
        "# Transform the data"
      ],
      "metadata": {
        "id": "UT8JjyPIc2Hg"
      }
    },
    {
      "cell_type": "code",
      "source": [
        "#number of rows in this dataset\n",
        "f\"The number of rows in this dataset is {wireless_reviews_df.count()}\""
      ],
      "metadata": {
        "colab": {
          "base_uri": "https://localhost:8080/",
          "height": 37
        },
        "id": "6f6Yw8mSc9ae",
        "outputId": "3caccfaa-a9dc-4219-aa06-b9cac0dfc531"
      },
      "execution_count": 5,
      "outputs": [
        {
          "output_type": "execute_result",
          "data": {
            "text/plain": [
              "'The number of rows in this dataset is 9002021'"
            ],
            "application/vnd.google.colaboratory.intrinsic+json": {
              "type": "string"
            }
          },
          "metadata": {},
          "execution_count": 5
        }
      ]
    },
    {
      "cell_type": "code",
      "source": [
        "f\"the number of columns in this dataset are {len(wireless_reviews_df.columns)}\""
      ],
      "metadata": {
        "colab": {
          "base_uri": "https://localhost:8080/",
          "height": 37
        },
        "id": "8zGz9jm0eYnt",
        "outputId": "ab7e194b-bf37-4614-aa43-935147bbb42b"
      },
      "execution_count": 6,
      "outputs": [
        {
          "output_type": "execute_result",
          "data": {
            "text/plain": [
              "'the number of columns in this dataset are 15'"
            ],
            "application/vnd.google.colaboratory.intrinsic+json": {
              "type": "string"
            }
          },
          "metadata": {},
          "execution_count": 6
        }
      ]
    },
    {
      "cell_type": "code",
      "source": [
        "f\"the number of columns are {wireless_reviews_df.columns}\""
      ],
      "metadata": {
        "colab": {
          "base_uri": "https://localhost:8080/",
          "height": 71
        },
        "id": "RmFBc7Z0fGMZ",
        "outputId": "dd142715-d19d-425a-a8be-e0b854a73097"
      },
      "execution_count": 7,
      "outputs": [
        {
          "output_type": "execute_result",
          "data": {
            "text/plain": [
              "\"the number of columns are ['marketplace', 'customer_id', 'review_id', 'product_id', 'product_parent', 'product_title', 'product_category', 'star_rating', 'helpful_votes', 'total_votes', 'vine', 'verified_purchase', 'review_headline', 'review_body', 'review_date']\""
            ],
            "application/vnd.google.colaboratory.intrinsic+json": {
              "type": "string"
            }
          },
          "metadata": {},
          "execution_count": 7
        }
      ]
    },
    {
      "cell_type": "markdown",
      "source": [
        "## Transform the data to fit into the schema"
      ],
      "metadata": {
        "id": "Fl3vzGPKfXsT"
      }
    },
    {
      "cell_type": "markdown",
      "source": [
        "A postgres sql database has been created. the database has 4 tables. In this section 4 dataframes are created. This dataframes will be loaded to the sql database. Therefore the datafrom spark is transformed to ensure that it is compatible with tables in the postgres database"
      ],
      "metadata": {
        "id": "psOZ5KOAxKhM"
      }
    },
    {
      "cell_type": "code",
      "source": [
        "#checking the column datatypes\n",
        "wireless_reviews_df.printSchema()"
      ],
      "metadata": {
        "colab": {
          "base_uri": "https://localhost:8080/"
        },
        "id": "CYRCvEANfka5",
        "outputId": "c026942d-e8bf-4159-fa9a-aedbd6a48ef8"
      },
      "execution_count": 8,
      "outputs": [
        {
          "output_type": "stream",
          "name": "stdout",
          "text": [
            "root\n",
            " |-- marketplace: string (nullable = true)\n",
            " |-- customer_id: integer (nullable = true)\n",
            " |-- review_id: string (nullable = true)\n",
            " |-- product_id: string (nullable = true)\n",
            " |-- product_parent: integer (nullable = true)\n",
            " |-- product_title: string (nullable = true)\n",
            " |-- product_category: string (nullable = true)\n",
            " |-- star_rating: string (nullable = true)\n",
            " |-- helpful_votes: integer (nullable = true)\n",
            " |-- total_votes: integer (nullable = true)\n",
            " |-- vine: string (nullable = true)\n",
            " |-- verified_purchase: string (nullable = true)\n",
            " |-- review_headline: string (nullable = true)\n",
            " |-- review_body: string (nullable = true)\n",
            " |-- review_date: string (nullable = true)\n",
            "\n"
          ]
        }
      ]
    },
    {
      "cell_type": "code",
      "source": [
        "#Changing the column datatypes as some are not true and forming a new dataframe\n",
        "\n",
        "from pyspark.sql.types import * \n",
        "wireless_reviews = wireless_reviews_df.withColumn(\"customer_id\", wireless_reviews_df[\"customer_id\"].cast(IntegerType()))\\\n",
        "                          .withColumn(\"product_parent\", wireless_reviews_df[\"product_parent\"].cast(IntegerType()))\\\n",
        "                          .withColumn(\"star_rating\", wireless_reviews_df[\"star_rating\"].cast(IntegerType()))\\\n",
        "                          .withColumn(\"helpful_votes\", wireless_reviews_df[\"helpful_votes\"].cast(IntegerType()))\\\n",
        "                          .withColumn(\"total_votes\", wireless_reviews_df[\"total_votes\"].cast(IntegerType()))\\\n",
        "                          .withColumn(\"review_date\", wireless_reviews_df[\"review_date\"].cast(DateType()))"
      ],
      "metadata": {
        "id": "A8F8fAzHnNAV"
      },
      "execution_count": 9,
      "outputs": []
    },
    {
      "cell_type": "code",
      "source": [
        "#checking the changes\n",
        "wireless_reviews.printSchema()"
      ],
      "metadata": {
        "colab": {
          "base_uri": "https://localhost:8080/"
        },
        "id": "lbI7mxvOoS8-",
        "outputId": "9ebafea8-e079-418f-9f05-a2df7811eccc"
      },
      "execution_count": 10,
      "outputs": [
        {
          "output_type": "stream",
          "name": "stdout",
          "text": [
            "root\n",
            " |-- marketplace: string (nullable = true)\n",
            " |-- customer_id: integer (nullable = true)\n",
            " |-- review_id: string (nullable = true)\n",
            " |-- product_id: string (nullable = true)\n",
            " |-- product_parent: integer (nullable = true)\n",
            " |-- product_title: string (nullable = true)\n",
            " |-- product_category: string (nullable = true)\n",
            " |-- star_rating: integer (nullable = true)\n",
            " |-- helpful_votes: integer (nullable = true)\n",
            " |-- total_votes: integer (nullable = true)\n",
            " |-- vine: string (nullable = true)\n",
            " |-- verified_purchase: string (nullable = true)\n",
            " |-- review_headline: string (nullable = true)\n",
            " |-- review_body: string (nullable = true)\n",
            " |-- review_date: date (nullable = true)\n",
            "\n"
          ]
        }
      ]
    },
    {
      "cell_type": "code",
      "source": [
        "#Now creating tables Create review_id_df that will be sent to review_id_table\n",
        "review_id_df = wireless_reviews.select([\"review_id\", \"customer_id\", \"product_id\", \"product_parent\", \"review_date\"])\n",
        "review_id_df.show()"
      ],
      "metadata": {
        "colab": {
          "base_uri": "https://localhost:8080/"
        },
        "id": "E68T4TTooxcS",
        "outputId": "f7648432-a341-4c90-feba-1a0e55b5bd8d"
      },
      "execution_count": 11,
      "outputs": [
        {
          "output_type": "stream",
          "name": "stdout",
          "text": [
            "+--------------+-----------+----------+--------------+-----------+\n",
            "|     review_id|customer_id|product_id|product_parent|review_date|\n",
            "+--------------+-----------+----------+--------------+-----------+\n",
            "|R3W4P9UBGNGH1U|   16414143|B00YL0EKWE|     852431543| 2015-08-31|\n",
            "|R15V54KBMTQWAY|   50800750|B00XK95RPQ|     516894650| 2015-08-31|\n",
            "| RY8I449HNXSVF|   15184378|B00SXRXUKO|     984297154| 2015-08-31|\n",
            "|R18TLJYCKJFLSR|   10203548|B009V5X1CE|     279912704| 2015-08-31|\n",
            "|R1NK26SWS53B8Q|     488280|B00D93OVF0|     662791300| 2015-08-31|\n",
            "|R11LOHEDYJALTN|   13334021|B00XVGJMDQ|     421688488| 2015-08-31|\n",
            "|R3ALQVQB2P9LA7|   27520697|B00KQW1X1C|     554285554| 2015-08-31|\n",
            "|R3MWLXLNO21PDQ|   48086021|B00IP1MQNK|     488006702| 2015-08-31|\n",
            "|R2L15IS24CX0LI|   12738196|B00HVORET8|     389677711| 2015-08-31|\n",
            "|R1DJ8976WPWVZU|   15867807|B00HX3G6J6|     299654876| 2015-08-31|\n",
            "|R3MRWNNR8CBTB7|    1972249|B00U4NATNQ|     577878727| 2015-08-31|\n",
            "|R1DS6DKTUXAQK3|   10956619|B00SZEFDH8|     654620704| 2015-08-31|\n",
            "| RWJM5E0TWUJD2|   14805911|B00JRJUL9U|     391166958| 2015-08-31|\n",
            "|R1XTJKDYNCRGAC|   15611116|B00KQ4T0HE|     481551630| 2015-08-31|\n",
            "|R2UZL3DPWEU1XW|   39298603|B00M0YWKPM|     685107474| 2015-08-31|\n",
            "|R2EZXET9KBFFU3|   17552454|B00KDZEE68|     148320945| 2015-08-31|\n",
            "|R26VY1L1FD3LPU|   12218556|B00BJN45GM|      47788188| 2015-08-31|\n",
            "|R2SSA4NSFCV18T|   21872923|B00SA86SXW|     748759272| 2015-08-31|\n",
            "|R1G6333JHJNEUQ|   16264332|B00Q3I68TU|     974085141| 2015-08-31|\n",
            "|R2DRG0UZXJQ0PE|    6042304|B00TN4J1TA|     716174627| 2015-08-31|\n",
            "+--------------+-----------+----------+--------------+-----------+\n",
            "only showing top 20 rows\n",
            "\n"
          ]
        }
      ]
    },
    {
      "cell_type": "code",
      "source": [
        "#Now creating tables Create review_id_df that will be sent to products_id_table\n",
        "products_id_df = wireless_reviews.select([ \"product_id\", \"product_title\"])\n",
        "products_id_df.show()"
      ],
      "metadata": {
        "colab": {
          "base_uri": "https://localhost:8080/"
        },
        "id": "hA2kB1zfqOwa",
        "outputId": "d98301ba-c080-4098-da37-a354148427dd"
      },
      "execution_count": 12,
      "outputs": [
        {
          "output_type": "stream",
          "name": "stdout",
          "text": [
            "+----------+--------------------+\n",
            "|product_id|       product_title|\n",
            "+----------+--------------------+\n",
            "|B00YL0EKWE|LG G4 Case Hard T...|\n",
            "|B00XK95RPQ|Selfie Stick Fibl...|\n",
            "|B00SXRXUKO|Tribe AB40 Water ...|\n",
            "|B009V5X1CE|RAVPower® Element...|\n",
            "|B00D93OVF0|Fosmon Micro USB ...|\n",
            "|B00XVGJMDQ|iPhone 6 Case, Vo...|\n",
            "|B00KQW1X1C|Nokia Lumia 630 R...|\n",
            "|B00IP1MQNK|Lumsing 10400mah ...|\n",
            "|B00HVORET8|iPhone 5S Battery...|\n",
            "|B00HX3G6J6|HTC One M8 Screen...|\n",
            "|B00U4NATNQ|S6 Case - Bear Mo...|\n",
            "|B00SZEFDH8|BLU Studio X, Unl...|\n",
            "|B00JRJUL9U|EZOPower 5-Port U...|\n",
            "|B00KQ4T0HE|iPhone 6S Case &i...|\n",
            "|B00M0YWKPM| iPhone 6s Plus Case|\n",
            "|B00KDZEE68|zBoost ZB575-A TR...|\n",
            "|B00BJN45GM|OtterBox Defender...|\n",
            "|B00SA86SXW|Aduro PowerUP 30W...|\n",
            "|B00Q3I68TU|LilGadgets Connec...|\n",
            "|B00TN4J1TA|Anker Aluminum Mu...|\n",
            "+----------+--------------------+\n",
            "only showing top 20 rows\n",
            "\n"
          ]
        }
      ]
    },
    {
      "cell_type": "code",
      "source": [
        "#dropping duplicates from product_id_df\n",
        "products_id_df = products_id_df.dropDuplicates([\"product_id\"])"
      ],
      "metadata": {
        "id": "DGo7cwT3KBUP"
      },
      "execution_count": 13,
      "outputs": []
    },
    {
      "cell_type": "code",
      "source": [
        "products_id_df.count()"
      ],
      "metadata": {
        "colab": {
          "base_uri": "https://localhost:8080/"
        },
        "id": "Nhj-ZItyM9xO",
        "outputId": "ac910f1e-1993-4cc0-bbdd-a5d8c47375d5"
      },
      "execution_count": 14,
      "outputs": [
        {
          "output_type": "execute_result",
          "data": {
            "text/plain": [
              "906592"
            ]
          },
          "metadata": {},
          "execution_count": 14
        }
      ]
    },
    {
      "cell_type": "code",
      "source": [
        "#Are there any duplicates\n",
        "if products_id_df.count() > products_id_df.dropDuplicates([\"product_id\"]).count():\n",
        "    raise ValueError('Data has duplicates')"
      ],
      "metadata": {
        "id": "Bk012cGiP41R"
      },
      "execution_count": 15,
      "outputs": []
    },
    {
      "cell_type": "code",
      "source": [
        "products_id_df.printSchema()"
      ],
      "metadata": {
        "colab": {
          "base_uri": "https://localhost:8080/"
        },
        "id": "2QoFXNNuHPnG",
        "outputId": "1893a4e5-3614-48b0-96f3-4ddf75161bdf"
      },
      "execution_count": 16,
      "outputs": [
        {
          "output_type": "stream",
          "name": "stdout",
          "text": [
            "root\n",
            " |-- product_id: string (nullable = true)\n",
            " |-- product_title: string (nullable = true)\n",
            "\n"
          ]
        }
      ]
    },
    {
      "cell_type": "code",
      "source": [
        "# Create customers table \n",
        "customers_df = wireless_reviews.groupby(\"customer_id\")\\\n",
        "              .agg({\"customer_id\": \"count\"})\\\n",
        "              .withColumnRenamed(\"count(customer_id)\", \"customer_count\")\n",
        "customers_df.show()"
      ],
      "metadata": {
        "colab": {
          "base_uri": "https://localhost:8080/"
        },
        "id": "qVe2gv3Ou2O0",
        "outputId": "2a667910-3ef1-4a44-e951-64e9ce9d1293"
      },
      "execution_count": 17,
      "outputs": [
        {
          "output_type": "stream",
          "name": "stdout",
          "text": [
            "+-----------+--------------+\n",
            "|customer_id|customer_count|\n",
            "+-----------+--------------+\n",
            "|   46909180|             6|\n",
            "|   42560427|             7|\n",
            "|   43789873|             3|\n",
            "|   22037526|             2|\n",
            "|   34220092|             2|\n",
            "|   42801586|             1|\n",
            "|    9565734|             2|\n",
            "|   15829398|             1|\n",
            "|   38247118|             1|\n",
            "|   32478248|             2|\n",
            "|   48114630|             1|\n",
            "|   23085063|             1|\n",
            "|   32787070|             3|\n",
            "|   43515569|             1|\n",
            "|    4919528|             2|\n",
            "|    5088547|             2|\n",
            "|   41852407|             3|\n",
            "|   49703087|             1|\n",
            "|   12713799|             1|\n",
            "|   36728141|             8|\n",
            "+-----------+--------------+\n",
            "only showing top 20 rows\n",
            "\n"
          ]
        }
      ]
    },
    {
      "cell_type": "code",
      "source": [
        "# Check the customers table schema \n",
        "customers_df.printSchema()"
      ],
      "metadata": {
        "colab": {
          "base_uri": "https://localhost:8080/"
        },
        "id": "1ei5i1tmv0uS",
        "outputId": "e50854a3-dbce-445f-ed45-9497f6508c00"
      },
      "execution_count": 18,
      "outputs": [
        {
          "output_type": "stream",
          "name": "stdout",
          "text": [
            "root\n",
            " |-- customer_id: integer (nullable = true)\n",
            " |-- customer_count: long (nullable = false)\n",
            "\n"
          ]
        }
      ]
    },
    {
      "cell_type": "code",
      "source": [
        "# Change customer_count to integer type\n",
        "customers_df =customers_df.withColumn(\"customer_count\", customers_df[\"customer_count\"].cast(IntegerType()))\n",
        "customers_df.printSchema()\n"
      ],
      "metadata": {
        "colab": {
          "base_uri": "https://localhost:8080/"
        },
        "id": "8i9Mx-eUv5Ef",
        "outputId": "d4d80943-2abf-457d-c763-a6d8a522b5e8"
      },
      "execution_count": 19,
      "outputs": [
        {
          "output_type": "stream",
          "name": "stdout",
          "text": [
            "root\n",
            " |-- customer_id: integer (nullable = true)\n",
            " |-- customer_count: integer (nullable = false)\n",
            "\n"
          ]
        }
      ]
    },
    {
      "cell_type": "code",
      "source": [
        "vine_df = wireless_reviews.select([\"review_id\",\"star_rating\",\"helpful_votes\", \"total_votes\",\"vine\"])\n",
        "vine_df.show()"
      ],
      "metadata": {
        "colab": {
          "base_uri": "https://localhost:8080/"
        },
        "id": "0DTcy_nTwQAu",
        "outputId": "cedb9b75-ba01-48fa-ebad-b1c6c6e6e83c"
      },
      "execution_count": 20,
      "outputs": [
        {
          "output_type": "stream",
          "name": "stdout",
          "text": [
            "+--------------+-----------+-------------+-----------+----+\n",
            "|     review_id|star_rating|helpful_votes|total_votes|vine|\n",
            "+--------------+-----------+-------------+-----------+----+\n",
            "|R3W4P9UBGNGH1U|          2|            1|          3|   N|\n",
            "|R15V54KBMTQWAY|          4|            0|          0|   N|\n",
            "| RY8I449HNXSVF|          5|            0|          0|   N|\n",
            "|R18TLJYCKJFLSR|          5|            0|          0|   N|\n",
            "|R1NK26SWS53B8Q|          5|            0|          0|   N|\n",
            "|R11LOHEDYJALTN|          5|            0|          0|   N|\n",
            "|R3ALQVQB2P9LA7|          4|            0|          0|   N|\n",
            "|R3MWLXLNO21PDQ|          5|            0|          0|   N|\n",
            "|R2L15IS24CX0LI|          5|            0|          0|   N|\n",
            "|R1DJ8976WPWVZU|          3|            0|          0|   N|\n",
            "|R3MRWNNR8CBTB7|          5|            0|          0|   N|\n",
            "|R1DS6DKTUXAQK3|          5|            0|          0|   N|\n",
            "| RWJM5E0TWUJD2|          5|            0|          0|   N|\n",
            "|R1XTJKDYNCRGAC|          1|            0|          0|   N|\n",
            "|R2UZL3DPWEU1XW|          5|            0|          0|   N|\n",
            "|R2EZXET9KBFFU3|          1|            0|          0|   N|\n",
            "|R26VY1L1FD3LPU|          5|            0|          0|   N|\n",
            "|R2SSA4NSFCV18T|          5|            0|          0|   N|\n",
            "|R1G6333JHJNEUQ|          5|            0|          0|   N|\n",
            "|R2DRG0UZXJQ0PE|          5|            0|          0|   N|\n",
            "+--------------+-----------+-------------+-----------+----+\n",
            "only showing top 20 rows\n",
            "\n"
          ]
        }
      ]
    },
    {
      "cell_type": "code",
      "source": [
        "vine_df.printSchema()"
      ],
      "metadata": {
        "colab": {
          "base_uri": "https://localhost:8080/"
        },
        "id": "-oThRzUOwi-e",
        "outputId": "d409c787-82ed-465e-ed7b-9dc2f3cb9061"
      },
      "execution_count": 21,
      "outputs": [
        {
          "output_type": "stream",
          "name": "stdout",
          "text": [
            "root\n",
            " |-- review_id: string (nullable = true)\n",
            " |-- star_rating: integer (nullable = true)\n",
            " |-- helpful_votes: integer (nullable = true)\n",
            " |-- total_votes: integer (nullable = true)\n",
            " |-- vine: string (nullable = true)\n",
            "\n"
          ]
        }
      ]
    },
    {
      "cell_type": "markdown",
      "source": [
        "# Load data to Posgress Database"
      ],
      "metadata": {
        "id": "r9UTkuYMyFGp"
      }
    },
    {
      "cell_type": "code",
      "source": [
        "spark.conf.set(\"spark.sql.execution.arrow.pyspark.enabled\", \"true\")"
      ],
      "metadata": {
        "id": "mRCs9BKs3oLI"
      },
      "execution_count": 22,
      "outputs": []
    },
    {
      "cell_type": "code",
      "source": [
        "# Configure settings for RDS\n",
        "mode = \"append\"\n",
        "jdbc_url=\"jdbc:postgresql://database-bootcamp.cgidpfd2p1nl.us-east-1.rds.amazonaws.com:5432/amazon_wireless_reviews_database\"\n",
        "config = {\"user\":\"root\", \n",
        "          \"password\": \"bootcamp\", \n",
        "          \"driver\":\"org.postgresql.Driver\"}\n"
      ],
      "metadata": {
        "id": "QmzQzmLGyOvh"
      },
      "execution_count": 23,
      "outputs": []
    },
    {
      "cell_type": "code",
      "source": [
        "# Write DataFrame to customers table in RDS\n",
        "\n",
        "customers_df.write.jdbc(url=jdbc_url, table=\"customers\", mode=mode, properties=config)\n"
      ],
      "metadata": {
        "id": "oq8htVSJ4RBj"
      },
      "execution_count": 24,
      "outputs": []
    },
    {
      "cell_type": "code",
      "source": [
        "# Write DataFrame to review_id_table table in RDS\n",
        "\n",
        "review_id_df.write.jdbc(url=jdbc_url, table=\"review_id_table\", mode=mode, properties=config)\n"
      ],
      "metadata": {
        "id": "Op_l4kuH8X5K"
      },
      "execution_count": 25,
      "outputs": []
    },
    {
      "cell_type": "code",
      "source": [
        "# Write DataFrame to vine_table table in RDS\n",
        "\n",
        "vine_df.write.jdbc(url=jdbc_url, table=\"vine_table\", mode=mode, properties=config)"
      ],
      "metadata": {
        "id": "IAhWMx_UBGM3"
      },
      "execution_count": 26,
      "outputs": []
    },
    {
      "cell_type": "code",
      "source": [
        "# Write DataFrame to products table in RDS\n",
        "\n",
        "products_id_df.write.jdbc(url=jdbc_url, table=\"products\", mode=mode, properties=config)\n"
      ],
      "metadata": {
        "id": "I9aCu6620FbH"
      },
      "execution_count": 27,
      "outputs": []
    }
  ]
}